{
 "cells": [
  {
   "cell_type": "markdown",
   "metadata": {
    "id": "header"
   },
   "source": [
    "# NBA Data Scraping - From GitHub\n",
    "\n",
    "This notebook runs the NBA data scraping system from your GitHub repository."
   ]
  },
  {
   "cell_type": "code",
   "execution_count": null,
   "metadata": {
    "id": "clone_repo"
   },
   "outputs": [],
   "source": [
    "# Clone your repository from GitHub\n",
    "!git clone https://github.com/LionelHutz123/funproject.git\n",
    "%cd funproject\n",
    "print(\"Repository cloned successfully!\")"
   ]
  },
  {
   "cell_type": "code",
   "execution_count": null,
   "metadata": {
    "id": "install_deps"
   },
   "outputs": [],
   "source": [
    "# Install dependencies\n",
    "!pip install -r requirements.txt\n",
    "print(\"Dependencies installed!\")"
   ]
  },
  {
   "cell_type": "code",
   "execution_count": null,
   "metadata": {
    "id": "install_browser"
   },
   "outputs": [],
   "source": [
    "# Install Playwright browser\n",
    "!playwright install firefox\n",
    "print(\"Browser installed!\")"
   ]
  },
  {
   "cell_type": "code",
   "execution_count": null,
   "metadata": {
    "id": "setup_and_run"
   },
   "outputs": [],
   "source": [
    "# Setup and run the scraper\n",
    "!python colab_quick_start.py\n",
    "!python colab_scraper.py\n",
    "print(\"Scraping completed!\")"
   ]
  },
  {
   "cell_type": "code",
   "execution_count": null,
   "metadata": {
    "id": "check_results"
   },
   "outputs": [],
   "source": [
    "# Check results\n",
    "!python main.py stats\n",
    "!ls -la data/\n",
    "print(\"\\nResults ready for download!\")"
   ]
  },
  {
   "cell_type": "code",
   "execution_count": null,
   "metadata": {
    "id": "download_results"
   },
   "outputs": [],
   "source": [
    "# Download results (optional)\n",
    "from google.colab import files\n",
    "import zipfile\n",
    "import os\n",
    "\n",
    "# Create zip file of results\n",
    "if os.path.exists('data'):\n",
    "    with zipfile.ZipFile('nba_data_results.zip', 'w') as zipf:\n",
    "        for root, dirs, files in os.walk('data'):\n",
    "            for file in files:\n",
    "                file_path = os.path.join(root, file)\n",
    "                zipf.write(file_path, os.path.relpath(file_path, '.'))\n",
    "    \n",
    "    # Download the zip file\n",
    "    files.download('nba_data_results.zip')\n",
    "    print(\"Results downloaded!\")"
   ]
  }
 ],
 "metadata": {
  "accelerator": "GPU",
  "colab": {
   "gpuType": "T4",
   "provenance": []
  },
  "kernelspec": {
   "display_name": "Python 3",
   "language": "python",
   "name": "python3"
  },
  "language_info": {
   "codemirror_mode": {
    "name": "ipython",
    "version": 3
   },
   "file_extension": ".py",
   "mimetype": "text/x-python",
   "name": "python",
   "nbconvert_exporter": "python",
   "pygments_lexer": "ipython3",
   "version": "3.8.5"
  }
 },
 "nbformat": 4,
 "nbformat_minor": 4
}