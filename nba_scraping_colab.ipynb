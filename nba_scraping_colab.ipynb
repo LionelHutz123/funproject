{
 "cells": [
  {
   "cell_type": "markdown",
   "metadata": {
    "id": "header"
   },
   "source": [
    "# NBA Data Scraping - From GitHub
",
    "
",
    "This notebook runs the NBA data scraping system from your GitHub repository."
   ]
  },
  {
   "cell_type": "code",
   "execution_count": null,
   "metadata": {
    "id": "clone_repo"
   },
   "outputs": [],
   "source": [
    "# Clone your repository from GitHub
",
    "!git clone https://github.com/LionelHutz123/funproject.git
",
    "%cd funproject
",
    "print("Repository cloned successfully!")"
   ]
  },
  {
   "cell_type": "code",
   "execution_count": null,
   "metadata": {
    "id": "install_deps"
   },
   "outputs": [],
   "source": [
    "# Install dependencies
",
    "!pip install -r requirements.txt
",
    "print("Dependencies installed!")"
   ]
  },
  {
   "cell_type": "code",
   "execution_count": null,
   "metadata": {
    "id": "install_browser"
   },
   "outputs": [],
   "source": [
    "# Install Playwright browser
",
    "!playwright install firefox
",
    "print("Browser installed!")"
   ]
  },
  {
   "cell_type": "code",
   "execution_count": null,
   "metadata": {
    "id": "setup_and_run"
   },
   "outputs": [],
   "source": [
    "# Setup and run the scraper
",
    "!python colab_quick_start.py
",
    "!python colab_scraper.py
",
    "print("Scraping completed!")"
   ]
  },
  {
   "cell_type": "code",
   "execution_count": null,
   "metadata": {
    "id": "check_results"
   },
   "outputs": [],
   "source": [
    "# Check results
",
    "!python main.py stats
",
    "!ls -la data/
",
    "print("\nResults ready for download!")"
   ]
  },
  {
   "cell_type": "code",
   "execution_count": null,
   "metadata": {
    "id": "download_results"
   },
   "outputs": [],
   "source": [
    "# Download results (optional)
",
    "from google.colab import files
",
    "import zipfile
",
    "import os
",
    "
",
    "# Create zip file of results
",
    "if os.path.exists('data'):
",
    "    with zipfile.ZipFile('nba_data_results.zip', 'w') as zipf:
",
    "        for root, dirs, files in os.walk('data'):
",
    "            for file in files:
",
    "                file_path = os.path.join(root, file)
",
    "                zipf.write(file_path, os.path.relpath(file_path, '.'))
",
    "    
",
    "    # Download the zip file
",
    "    files.download('nba_data_results.zip')
",
    "    print("Results downloaded!")"
   ]
  }
 ],
 "metadata": {
  "accelerator": "GPU",
  "colab": {
   "gpuType": "T4",
   "provenance": []
  },
  "kernelspec": {
   "display_name": "Python 3",
   "language": "python",
   "name": "python3"
  },
  "language_info": {
   "codemirror_mode": {
    "name": "ipython",
    "version": 3
   },
   "file_extension": ".py",
   "mimetype": "text/x-python",
   "name": "python",
   "nbconvert_exporter": "python",
   "pygments_lexer": "ipython3",
   "version": "3.8.5"
  }
 },
 "nbformat": 4,
 "nbformat_minor": 4
}